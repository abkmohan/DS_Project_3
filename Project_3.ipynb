{
 "cells": [
  {
   "cell_type": "code",
   "execution_count": 1,
   "metadata": {
    "collapsed": true
   },
   "outputs": [],
   "source": [
    "#Course: Data Science Masters\n",
    "#Title: Project 3\n",
    "#Tool: Jupyter notebook \n",
    "#Author: Krishna A\n",
    "#Date: 26-07-2018 (DD/MM/YYYY)\n",
    "\n",
    "# PROJECT ON APPICATION OF CLASSIFICATION MODELS\n",
    "\n",
    "import os\n",
    "import numpy as np\n",
    "import pandas as pd\n",
    "import matplotlib.pyplot as plt\n",
    "from sklearn import model_selection\n",
    "from sklearn.metrics import confusion_matrix\n",
    "from sklearn.metrics import classification_report\n",
    "from sklearn.metrics import accuracy_score\n",
    "from sklearn.tree import DecisionTreeClassifier\n",
    "from sklearn.linear_model import LogisticRegression\n",
    "from sklearn.neighbors import KNeighborsClassifier\n",
    "from sklearn.preprocessing import Imputer\n",
    "from sklearn.naive_bayes import GaussianNB"
   ]
  },
  {
   "cell_type": "code",
   "execution_count": 2,
   "metadata": {
    "collapsed": true
   },
   "outputs": [],
   "source": [
    "import numpy as np\n",
    "import xgboost as xgb"
   ]
  },
  {
   "cell_type": "code",
   "execution_count": 3,
   "metadata": {
    "collapsed": true
   },
   "outputs": [],
   "source": [
    "from numpy import loadtxt\n",
    "from xgboost import XGBClassifier"
   ]
  },
  {
   "cell_type": "code",
   "execution_count": 4,
   "metadata": {
    "collapsed": true
   },
   "outputs": [],
   "source": [
    "from sklearn.model_selection import train_test_split"
   ]
  },
  {
   "cell_type": "code",
   "execution_count": 68,
   "metadata": {
    "collapsed": true
   },
   "outputs": [],
   "source": [
    "adult_df = pd.read_table('https://archive.ics.uci.edu/ml/machine-learning-databases/adult/adult.data', sep='\\s+', header=None)\n",
    "adult_df.columns = ['age','workclass','fnlwgt','education','education_num','marital_status','occupation','relationship','race',\n",
    "                    'sex', 'capital-gain','capital-loss','hours-per-week','native-country','income']"
   ]
  },
  {
   "cell_type": "code",
   "execution_count": 69,
   "metadata": {},
   "outputs": [
    {
     "data": {
      "text/html": [
       "<div>\n",
       "<style>\n",
       "    .dataframe thead tr:only-child th {\n",
       "        text-align: right;\n",
       "    }\n",
       "\n",
       "    .dataframe thead th {\n",
       "        text-align: left;\n",
       "    }\n",
       "\n",
       "    .dataframe tbody tr th {\n",
       "        vertical-align: top;\n",
       "    }\n",
       "</style>\n",
       "<table border=\"1\" class=\"dataframe\">\n",
       "  <thead>\n",
       "    <tr style=\"text-align: right;\">\n",
       "      <th></th>\n",
       "      <th>age</th>\n",
       "      <th>workclass</th>\n",
       "      <th>fnlwgt</th>\n",
       "      <th>education</th>\n",
       "      <th>education_num</th>\n",
       "      <th>marital_status</th>\n",
       "      <th>occupation</th>\n",
       "      <th>relationship</th>\n",
       "      <th>race</th>\n",
       "      <th>sex</th>\n",
       "      <th>capital-gain</th>\n",
       "      <th>capital-loss</th>\n",
       "      <th>hours-per-week</th>\n",
       "      <th>native-country</th>\n",
       "      <th>income</th>\n",
       "    </tr>\n",
       "  </thead>\n",
       "  <tbody>\n",
       "    <tr>\n",
       "      <th>0</th>\n",
       "      <td>39,</td>\n",
       "      <td>State-gov,</td>\n",
       "      <td>77516,</td>\n",
       "      <td>Bachelors,</td>\n",
       "      <td>13,</td>\n",
       "      <td>Never-married,</td>\n",
       "      <td>Adm-clerical,</td>\n",
       "      <td>Not-in-family,</td>\n",
       "      <td>White,</td>\n",
       "      <td>Male,</td>\n",
       "      <td>2174,</td>\n",
       "      <td>0,</td>\n",
       "      <td>40,</td>\n",
       "      <td>United-States,</td>\n",
       "      <td>&lt;=50K</td>\n",
       "    </tr>\n",
       "    <tr>\n",
       "      <th>1</th>\n",
       "      <td>50,</td>\n",
       "      <td>Self-emp-not-inc,</td>\n",
       "      <td>83311,</td>\n",
       "      <td>Bachelors,</td>\n",
       "      <td>13,</td>\n",
       "      <td>Married-civ-spouse,</td>\n",
       "      <td>Exec-managerial,</td>\n",
       "      <td>Husband,</td>\n",
       "      <td>White,</td>\n",
       "      <td>Male,</td>\n",
       "      <td>0,</td>\n",
       "      <td>0,</td>\n",
       "      <td>13,</td>\n",
       "      <td>United-States,</td>\n",
       "      <td>&lt;=50K</td>\n",
       "    </tr>\n",
       "    <tr>\n",
       "      <th>2</th>\n",
       "      <td>38,</td>\n",
       "      <td>Private,</td>\n",
       "      <td>215646,</td>\n",
       "      <td>HS-grad,</td>\n",
       "      <td>9,</td>\n",
       "      <td>Divorced,</td>\n",
       "      <td>Handlers-cleaners,</td>\n",
       "      <td>Not-in-family,</td>\n",
       "      <td>White,</td>\n",
       "      <td>Male,</td>\n",
       "      <td>0,</td>\n",
       "      <td>0,</td>\n",
       "      <td>40,</td>\n",
       "      <td>United-States,</td>\n",
       "      <td>&lt;=50K</td>\n",
       "    </tr>\n",
       "    <tr>\n",
       "      <th>3</th>\n",
       "      <td>53,</td>\n",
       "      <td>Private,</td>\n",
       "      <td>234721,</td>\n",
       "      <td>11th,</td>\n",
       "      <td>7,</td>\n",
       "      <td>Married-civ-spouse,</td>\n",
       "      <td>Handlers-cleaners,</td>\n",
       "      <td>Husband,</td>\n",
       "      <td>Black,</td>\n",
       "      <td>Male,</td>\n",
       "      <td>0,</td>\n",
       "      <td>0,</td>\n",
       "      <td>40,</td>\n",
       "      <td>United-States,</td>\n",
       "      <td>&lt;=50K</td>\n",
       "    </tr>\n",
       "    <tr>\n",
       "      <th>4</th>\n",
       "      <td>28,</td>\n",
       "      <td>Private,</td>\n",
       "      <td>338409,</td>\n",
       "      <td>Bachelors,</td>\n",
       "      <td>13,</td>\n",
       "      <td>Married-civ-spouse,</td>\n",
       "      <td>Prof-specialty,</td>\n",
       "      <td>Wife,</td>\n",
       "      <td>Black,</td>\n",
       "      <td>Female,</td>\n",
       "      <td>0,</td>\n",
       "      <td>0,</td>\n",
       "      <td>40,</td>\n",
       "      <td>Cuba,</td>\n",
       "      <td>&lt;=50K</td>\n",
       "    </tr>\n",
       "  </tbody>\n",
       "</table>\n",
       "</div>"
      ],
      "text/plain": [
       "   age          workclass   fnlwgt   education education_num  \\\n",
       "0  39,         State-gov,   77516,  Bachelors,           13,   \n",
       "1  50,  Self-emp-not-inc,   83311,  Bachelors,           13,   \n",
       "2  38,           Private,  215646,    HS-grad,            9,   \n",
       "3  53,           Private,  234721,       11th,            7,   \n",
       "4  28,           Private,  338409,  Bachelors,           13,   \n",
       "\n",
       "        marital_status          occupation    relationship    race      sex  \\\n",
       "0       Never-married,       Adm-clerical,  Not-in-family,  White,    Male,   \n",
       "1  Married-civ-spouse,    Exec-managerial,        Husband,  White,    Male,   \n",
       "2            Divorced,  Handlers-cleaners,  Not-in-family,  White,    Male,   \n",
       "3  Married-civ-spouse,  Handlers-cleaners,        Husband,  Black,    Male,   \n",
       "4  Married-civ-spouse,     Prof-specialty,           Wife,  Black,  Female,   \n",
       "\n",
       "  capital-gain capital-loss hours-per-week  native-country income  \n",
       "0        2174,           0,            40,  United-States,  <=50K  \n",
       "1           0,           0,            13,  United-States,  <=50K  \n",
       "2           0,           0,            40,  United-States,  <=50K  \n",
       "3           0,           0,            40,  United-States,  <=50K  \n",
       "4           0,           0,            40,           Cuba,  <=50K  "
      ]
     },
     "execution_count": 69,
     "metadata": {},
     "output_type": "execute_result"
    }
   ],
   "source": [
    "adult_df.head()"
   ]
  },
  {
   "cell_type": "code",
   "execution_count": 7,
   "metadata": {},
   "outputs": [
    {
     "data": {
      "text/html": [
       "<div>\n",
       "<style>\n",
       "    .dataframe thead tr:only-child th {\n",
       "        text-align: right;\n",
       "    }\n",
       "\n",
       "    .dataframe thead th {\n",
       "        text-align: left;\n",
       "    }\n",
       "\n",
       "    .dataframe tbody tr th {\n",
       "        vertical-align: top;\n",
       "    }\n",
       "</style>\n",
       "<table border=\"1\" class=\"dataframe\">\n",
       "  <thead>\n",
       "    <tr style=\"text-align: right;\">\n",
       "      <th></th>\n",
       "      <th>age</th>\n",
       "      <th>fnlwgt</th>\n",
       "      <th>education_num</th>\n",
       "      <th>capital-gain</th>\n",
       "      <th>capital-loss</th>\n",
       "      <th>hours-per-week</th>\n",
       "      <th>income</th>\n",
       "      <th>workclass_?,</th>\n",
       "      <th>workclass_Federal-gov,</th>\n",
       "      <th>workclass_Local-gov,</th>\n",
       "      <th>...</th>\n",
       "      <th>native-country_Portugal,</th>\n",
       "      <th>native-country_Puerto-Rico,</th>\n",
       "      <th>native-country_Scotland,</th>\n",
       "      <th>native-country_South,</th>\n",
       "      <th>native-country_Taiwan,</th>\n",
       "      <th>native-country_Thailand,</th>\n",
       "      <th>native-country_Trinadad&amp;Tobago,</th>\n",
       "      <th>native-country_United-States,</th>\n",
       "      <th>native-country_Vietnam,</th>\n",
       "      <th>native-country_Yugoslavia,</th>\n",
       "    </tr>\n",
       "  </thead>\n",
       "  <tbody>\n",
       "    <tr>\n",
       "      <th>0</th>\n",
       "      <td>39,</td>\n",
       "      <td>77516,</td>\n",
       "      <td>13,</td>\n",
       "      <td>2174,</td>\n",
       "      <td>0,</td>\n",
       "      <td>40,</td>\n",
       "      <td>&lt;=50K</td>\n",
       "      <td>0</td>\n",
       "      <td>0</td>\n",
       "      <td>0</td>\n",
       "      <td>...</td>\n",
       "      <td>0</td>\n",
       "      <td>0</td>\n",
       "      <td>0</td>\n",
       "      <td>0</td>\n",
       "      <td>0</td>\n",
       "      <td>0</td>\n",
       "      <td>0</td>\n",
       "      <td>1</td>\n",
       "      <td>0</td>\n",
       "      <td>0</td>\n",
       "    </tr>\n",
       "    <tr>\n",
       "      <th>1</th>\n",
       "      <td>50,</td>\n",
       "      <td>83311,</td>\n",
       "      <td>13,</td>\n",
       "      <td>0,</td>\n",
       "      <td>0,</td>\n",
       "      <td>13,</td>\n",
       "      <td>&lt;=50K</td>\n",
       "      <td>0</td>\n",
       "      <td>0</td>\n",
       "      <td>0</td>\n",
       "      <td>...</td>\n",
       "      <td>0</td>\n",
       "      <td>0</td>\n",
       "      <td>0</td>\n",
       "      <td>0</td>\n",
       "      <td>0</td>\n",
       "      <td>0</td>\n",
       "      <td>0</td>\n",
       "      <td>1</td>\n",
       "      <td>0</td>\n",
       "      <td>0</td>\n",
       "    </tr>\n",
       "    <tr>\n",
       "      <th>2</th>\n",
       "      <td>38,</td>\n",
       "      <td>215646,</td>\n",
       "      <td>9,</td>\n",
       "      <td>0,</td>\n",
       "      <td>0,</td>\n",
       "      <td>40,</td>\n",
       "      <td>&lt;=50K</td>\n",
       "      <td>0</td>\n",
       "      <td>0</td>\n",
       "      <td>0</td>\n",
       "      <td>...</td>\n",
       "      <td>0</td>\n",
       "      <td>0</td>\n",
       "      <td>0</td>\n",
       "      <td>0</td>\n",
       "      <td>0</td>\n",
       "      <td>0</td>\n",
       "      <td>0</td>\n",
       "      <td>1</td>\n",
       "      <td>0</td>\n",
       "      <td>0</td>\n",
       "    </tr>\n",
       "    <tr>\n",
       "      <th>3</th>\n",
       "      <td>53,</td>\n",
       "      <td>234721,</td>\n",
       "      <td>7,</td>\n",
       "      <td>0,</td>\n",
       "      <td>0,</td>\n",
       "      <td>40,</td>\n",
       "      <td>&lt;=50K</td>\n",
       "      <td>0</td>\n",
       "      <td>0</td>\n",
       "      <td>0</td>\n",
       "      <td>...</td>\n",
       "      <td>0</td>\n",
       "      <td>0</td>\n",
       "      <td>0</td>\n",
       "      <td>0</td>\n",
       "      <td>0</td>\n",
       "      <td>0</td>\n",
       "      <td>0</td>\n",
       "      <td>1</td>\n",
       "      <td>0</td>\n",
       "      <td>0</td>\n",
       "    </tr>\n",
       "    <tr>\n",
       "      <th>4</th>\n",
       "      <td>28,</td>\n",
       "      <td>338409,</td>\n",
       "      <td>13,</td>\n",
       "      <td>0,</td>\n",
       "      <td>0,</td>\n",
       "      <td>40,</td>\n",
       "      <td>&lt;=50K</td>\n",
       "      <td>0</td>\n",
       "      <td>0</td>\n",
       "      <td>0</td>\n",
       "      <td>...</td>\n",
       "      <td>0</td>\n",
       "      <td>0</td>\n",
       "      <td>0</td>\n",
       "      <td>0</td>\n",
       "      <td>0</td>\n",
       "      <td>0</td>\n",
       "      <td>0</td>\n",
       "      <td>0</td>\n",
       "      <td>0</td>\n",
       "      <td>0</td>\n",
       "    </tr>\n",
       "  </tbody>\n",
       "</table>\n",
       "<p>5 rows × 109 columns</p>\n",
       "</div>"
      ],
      "text/plain": [
       "   age   fnlwgt education_num capital-gain capital-loss hours-per-week income  \\\n",
       "0  39,   77516,           13,        2174,           0,            40,  <=50K   \n",
       "1  50,   83311,           13,           0,           0,            13,  <=50K   \n",
       "2  38,  215646,            9,           0,           0,            40,  <=50K   \n",
       "3  53,  234721,            7,           0,           0,            40,  <=50K   \n",
       "4  28,  338409,           13,           0,           0,            40,  <=50K   \n",
       "\n",
       "   workclass_?,  workclass_Federal-gov,  workclass_Local-gov,  \\\n",
       "0             0                       0                     0   \n",
       "1             0                       0                     0   \n",
       "2             0                       0                     0   \n",
       "3             0                       0                     0   \n",
       "4             0                       0                     0   \n",
       "\n",
       "              ...              native-country_Portugal,  \\\n",
       "0             ...                                     0   \n",
       "1             ...                                     0   \n",
       "2             ...                                     0   \n",
       "3             ...                                     0   \n",
       "4             ...                                     0   \n",
       "\n",
       "   native-country_Puerto-Rico,  native-country_Scotland,  \\\n",
       "0                            0                         0   \n",
       "1                            0                         0   \n",
       "2                            0                         0   \n",
       "3                            0                         0   \n",
       "4                            0                         0   \n",
       "\n",
       "   native-country_South,  native-country_Taiwan,  native-country_Thailand,  \\\n",
       "0                      0                       0                         0   \n",
       "1                      0                       0                         0   \n",
       "2                      0                       0                         0   \n",
       "3                      0                       0                         0   \n",
       "4                      0                       0                         0   \n",
       "\n",
       "   native-country_Trinadad&Tobago,  native-country_United-States,  \\\n",
       "0                                0                              1   \n",
       "1                                0                              1   \n",
       "2                                0                              1   \n",
       "3                                0                              1   \n",
       "4                                0                              0   \n",
       "\n",
       "   native-country_Vietnam,  native-country_Yugoslavia,  \n",
       "0                        0                           0  \n",
       "1                        0                           0  \n",
       "2                        0                           0  \n",
       "3                        0                           0  \n",
       "4                        0                           0  \n",
       "\n",
       "[5 rows x 109 columns]"
      ]
     },
     "execution_count": 7,
     "metadata": {},
     "output_type": "execute_result"
    }
   ],
   "source": [
    "data_ = pd.get_dummies(data = adult_df, columns=['workclass', 'education',  'marital_status', 'occupation', 'relationship', 'race', 'sex', 'native-country'])\n",
    "data_.head()"
   ]
  },
  {
   "cell_type": "code",
   "execution_count": 8,
   "metadata": {},
   "outputs": [
    {
     "data": {
      "text/plain": [
       "array(['77516,', '83311,', '215646,', ..., '34066,', '84661,', '257302,'], dtype=object)"
      ]
     },
     "execution_count": 8,
     "metadata": {},
     "output_type": "execute_result"
    }
   ],
   "source": [
    "data_['fnlwgt'].unique()"
   ]
  },
  {
   "cell_type": "code",
   "execution_count": 9,
   "metadata": {},
   "outputs": [
    {
     "data": {
      "text/plain": [
       "['age',\n",
       " 'fnlwgt',\n",
       " 'education_num',\n",
       " 'capital-gain',\n",
       " 'capital-loss',\n",
       " 'hours-per-week',\n",
       " 'income',\n",
       " 'workclass_?,',\n",
       " 'workclass_Federal-gov,',\n",
       " 'workclass_Local-gov,',\n",
       " 'workclass_Never-worked,',\n",
       " 'workclass_Private,',\n",
       " 'workclass_Self-emp-inc,',\n",
       " 'workclass_Self-emp-not-inc,',\n",
       " 'workclass_State-gov,',\n",
       " 'workclass_Without-pay,',\n",
       " 'education_10th,',\n",
       " 'education_11th,',\n",
       " 'education_12th,',\n",
       " 'education_1st-4th,',\n",
       " 'education_5th-6th,',\n",
       " 'education_7th-8th,',\n",
       " 'education_9th,',\n",
       " 'education_Assoc-acdm,',\n",
       " 'education_Assoc-voc,',\n",
       " 'education_Bachelors,',\n",
       " 'education_Doctorate,',\n",
       " 'education_HS-grad,',\n",
       " 'education_Masters,',\n",
       " 'education_Preschool,',\n",
       " 'education_Prof-school,',\n",
       " 'education_Some-college,',\n",
       " 'marital_status_Divorced,',\n",
       " 'marital_status_Married-AF-spouse,',\n",
       " 'marital_status_Married-civ-spouse,',\n",
       " 'marital_status_Married-spouse-absent,',\n",
       " 'marital_status_Never-married,',\n",
       " 'marital_status_Separated,',\n",
       " 'marital_status_Widowed,',\n",
       " 'occupation_?,',\n",
       " 'occupation_Adm-clerical,',\n",
       " 'occupation_Armed-Forces,',\n",
       " 'occupation_Craft-repair,',\n",
       " 'occupation_Exec-managerial,',\n",
       " 'occupation_Farming-fishing,',\n",
       " 'occupation_Handlers-cleaners,',\n",
       " 'occupation_Machine-op-inspct,',\n",
       " 'occupation_Other-service,',\n",
       " 'occupation_Priv-house-serv,',\n",
       " 'occupation_Prof-specialty,',\n",
       " 'occupation_Protective-serv,',\n",
       " 'occupation_Sales,',\n",
       " 'occupation_Tech-support,',\n",
       " 'occupation_Transport-moving,',\n",
       " 'relationship_Husband,',\n",
       " 'relationship_Not-in-family,',\n",
       " 'relationship_Other-relative,',\n",
       " 'relationship_Own-child,',\n",
       " 'relationship_Unmarried,',\n",
       " 'relationship_Wife,',\n",
       " 'race_Amer-Indian-Eskimo,',\n",
       " 'race_Asian-Pac-Islander,',\n",
       " 'race_Black,',\n",
       " 'race_Other,',\n",
       " 'race_White,',\n",
       " 'sex_Female,',\n",
       " 'sex_Male,',\n",
       " 'native-country_?,',\n",
       " 'native-country_Cambodia,',\n",
       " 'native-country_Canada,',\n",
       " 'native-country_China,',\n",
       " 'native-country_Columbia,',\n",
       " 'native-country_Cuba,',\n",
       " 'native-country_Dominican-Republic,',\n",
       " 'native-country_Ecuador,',\n",
       " 'native-country_El-Salvador,',\n",
       " 'native-country_England,',\n",
       " 'native-country_France,',\n",
       " 'native-country_Germany,',\n",
       " 'native-country_Greece,',\n",
       " 'native-country_Guatemala,',\n",
       " 'native-country_Haiti,',\n",
       " 'native-country_Holand-Netherlands,',\n",
       " 'native-country_Honduras,',\n",
       " 'native-country_Hong,',\n",
       " 'native-country_Hungary,',\n",
       " 'native-country_India,',\n",
       " 'native-country_Iran,',\n",
       " 'native-country_Ireland,',\n",
       " 'native-country_Italy,',\n",
       " 'native-country_Jamaica,',\n",
       " 'native-country_Japan,',\n",
       " 'native-country_Laos,',\n",
       " 'native-country_Mexico,',\n",
       " 'native-country_Nicaragua,',\n",
       " 'native-country_Outlying-US(Guam-USVI-etc),',\n",
       " 'native-country_Peru,',\n",
       " 'native-country_Philippines,',\n",
       " 'native-country_Poland,',\n",
       " 'native-country_Portugal,',\n",
       " 'native-country_Puerto-Rico,',\n",
       " 'native-country_Scotland,',\n",
       " 'native-country_South,',\n",
       " 'native-country_Taiwan,',\n",
       " 'native-country_Thailand,',\n",
       " 'native-country_Trinadad&Tobago,',\n",
       " 'native-country_United-States,',\n",
       " 'native-country_Vietnam,',\n",
       " 'native-country_Yugoslavia,']"
      ]
     },
     "execution_count": 9,
     "metadata": {},
     "output_type": "execute_result"
    }
   ],
   "source": [
    "data_.columns.tolist()"
   ]
  },
  {
   "cell_type": "code",
   "execution_count": 10,
   "metadata": {
    "collapsed": true
   },
   "outputs": [],
   "source": [
    "data_['capital-gain'] = pd.to_numeric(data_['capital-gain'].str.replace(',',''))\n",
    "data_['capital-loss'] = pd.to_numeric(data_['capital-loss'].str.replace(',',''))\n",
    "data_['hours-per-week'] = pd.to_numeric(data_['hours-per-week'].str.replace(',',''))\n",
    "data_['education_num'] = pd.to_numeric(data_['education_num'].str.replace(',',''))\n",
    "data_['fnlwgt'] = pd.to_numeric(data_['fnlwgt'].str.replace(',',''))\n",
    "data_['age'] = pd.to_numeric(data_['age'].str.replace(',',''))\n"
   ]
  },
  {
   "cell_type": "code",
   "execution_count": 11,
   "metadata": {
    "collapsed": true
   },
   "outputs": [],
   "source": [
    "data_['income'].replace({'>50K':'1', '<=50K':'0'}, inplace=True)\n",
    "data_['income'] = pd.to_numeric(data_['income'].str.replace(',',''))"
   ]
  },
  {
   "cell_type": "code",
   "execution_count": 12,
   "metadata": {},
   "outputs": [
    {
     "data": {
      "text/html": [
       "<div>\n",
       "<style>\n",
       "    .dataframe thead tr:only-child th {\n",
       "        text-align: right;\n",
       "    }\n",
       "\n",
       "    .dataframe thead th {\n",
       "        text-align: left;\n",
       "    }\n",
       "\n",
       "    .dataframe tbody tr th {\n",
       "        vertical-align: top;\n",
       "    }\n",
       "</style>\n",
       "<table border=\"1\" class=\"dataframe\">\n",
       "  <thead>\n",
       "    <tr style=\"text-align: right;\">\n",
       "      <th></th>\n",
       "      <th>age</th>\n",
       "      <th>fnlwgt</th>\n",
       "      <th>education_num</th>\n",
       "      <th>capital-gain</th>\n",
       "      <th>capital-loss</th>\n",
       "      <th>hours-per-week</th>\n",
       "      <th>income</th>\n",
       "      <th>workclass_?,</th>\n",
       "      <th>workclass_Federal-gov,</th>\n",
       "      <th>workclass_Local-gov,</th>\n",
       "      <th>...</th>\n",
       "      <th>native-country_Portugal,</th>\n",
       "      <th>native-country_Puerto-Rico,</th>\n",
       "      <th>native-country_Scotland,</th>\n",
       "      <th>native-country_South,</th>\n",
       "      <th>native-country_Taiwan,</th>\n",
       "      <th>native-country_Thailand,</th>\n",
       "      <th>native-country_Trinadad&amp;Tobago,</th>\n",
       "      <th>native-country_United-States,</th>\n",
       "      <th>native-country_Vietnam,</th>\n",
       "      <th>native-country_Yugoslavia,</th>\n",
       "    </tr>\n",
       "  </thead>\n",
       "  <tbody>\n",
       "    <tr>\n",
       "      <th>0</th>\n",
       "      <td>39</td>\n",
       "      <td>77516</td>\n",
       "      <td>13</td>\n",
       "      <td>2174</td>\n",
       "      <td>0</td>\n",
       "      <td>40</td>\n",
       "      <td>0</td>\n",
       "      <td>0</td>\n",
       "      <td>0</td>\n",
       "      <td>0</td>\n",
       "      <td>...</td>\n",
       "      <td>0</td>\n",
       "      <td>0</td>\n",
       "      <td>0</td>\n",
       "      <td>0</td>\n",
       "      <td>0</td>\n",
       "      <td>0</td>\n",
       "      <td>0</td>\n",
       "      <td>1</td>\n",
       "      <td>0</td>\n",
       "      <td>0</td>\n",
       "    </tr>\n",
       "    <tr>\n",
       "      <th>1</th>\n",
       "      <td>50</td>\n",
       "      <td>83311</td>\n",
       "      <td>13</td>\n",
       "      <td>0</td>\n",
       "      <td>0</td>\n",
       "      <td>13</td>\n",
       "      <td>0</td>\n",
       "      <td>0</td>\n",
       "      <td>0</td>\n",
       "      <td>0</td>\n",
       "      <td>...</td>\n",
       "      <td>0</td>\n",
       "      <td>0</td>\n",
       "      <td>0</td>\n",
       "      <td>0</td>\n",
       "      <td>0</td>\n",
       "      <td>0</td>\n",
       "      <td>0</td>\n",
       "      <td>1</td>\n",
       "      <td>0</td>\n",
       "      <td>0</td>\n",
       "    </tr>\n",
       "    <tr>\n",
       "      <th>2</th>\n",
       "      <td>38</td>\n",
       "      <td>215646</td>\n",
       "      <td>9</td>\n",
       "      <td>0</td>\n",
       "      <td>0</td>\n",
       "      <td>40</td>\n",
       "      <td>0</td>\n",
       "      <td>0</td>\n",
       "      <td>0</td>\n",
       "      <td>0</td>\n",
       "      <td>...</td>\n",
       "      <td>0</td>\n",
       "      <td>0</td>\n",
       "      <td>0</td>\n",
       "      <td>0</td>\n",
       "      <td>0</td>\n",
       "      <td>0</td>\n",
       "      <td>0</td>\n",
       "      <td>1</td>\n",
       "      <td>0</td>\n",
       "      <td>0</td>\n",
       "    </tr>\n",
       "    <tr>\n",
       "      <th>3</th>\n",
       "      <td>53</td>\n",
       "      <td>234721</td>\n",
       "      <td>7</td>\n",
       "      <td>0</td>\n",
       "      <td>0</td>\n",
       "      <td>40</td>\n",
       "      <td>0</td>\n",
       "      <td>0</td>\n",
       "      <td>0</td>\n",
       "      <td>0</td>\n",
       "      <td>...</td>\n",
       "      <td>0</td>\n",
       "      <td>0</td>\n",
       "      <td>0</td>\n",
       "      <td>0</td>\n",
       "      <td>0</td>\n",
       "      <td>0</td>\n",
       "      <td>0</td>\n",
       "      <td>1</td>\n",
       "      <td>0</td>\n",
       "      <td>0</td>\n",
       "    </tr>\n",
       "    <tr>\n",
       "      <th>4</th>\n",
       "      <td>28</td>\n",
       "      <td>338409</td>\n",
       "      <td>13</td>\n",
       "      <td>0</td>\n",
       "      <td>0</td>\n",
       "      <td>40</td>\n",
       "      <td>0</td>\n",
       "      <td>0</td>\n",
       "      <td>0</td>\n",
       "      <td>0</td>\n",
       "      <td>...</td>\n",
       "      <td>0</td>\n",
       "      <td>0</td>\n",
       "      <td>0</td>\n",
       "      <td>0</td>\n",
       "      <td>0</td>\n",
       "      <td>0</td>\n",
       "      <td>0</td>\n",
       "      <td>0</td>\n",
       "      <td>0</td>\n",
       "      <td>0</td>\n",
       "    </tr>\n",
       "  </tbody>\n",
       "</table>\n",
       "<p>5 rows × 109 columns</p>\n",
       "</div>"
      ],
      "text/plain": [
       "   age  fnlwgt  education_num  capital-gain  capital-loss  hours-per-week  \\\n",
       "0   39   77516             13          2174             0              40   \n",
       "1   50   83311             13             0             0              13   \n",
       "2   38  215646              9             0             0              40   \n",
       "3   53  234721              7             0             0              40   \n",
       "4   28  338409             13             0             0              40   \n",
       "\n",
       "   income  workclass_?,  workclass_Federal-gov,  workclass_Local-gov,  \\\n",
       "0       0             0                       0                     0   \n",
       "1       0             0                       0                     0   \n",
       "2       0             0                       0                     0   \n",
       "3       0             0                       0                     0   \n",
       "4       0             0                       0                     0   \n",
       "\n",
       "              ...              native-country_Portugal,  \\\n",
       "0             ...                                     0   \n",
       "1             ...                                     0   \n",
       "2             ...                                     0   \n",
       "3             ...                                     0   \n",
       "4             ...                                     0   \n",
       "\n",
       "   native-country_Puerto-Rico,  native-country_Scotland,  \\\n",
       "0                            0                         0   \n",
       "1                            0                         0   \n",
       "2                            0                         0   \n",
       "3                            0                         0   \n",
       "4                            0                         0   \n",
       "\n",
       "   native-country_South,  native-country_Taiwan,  native-country_Thailand,  \\\n",
       "0                      0                       0                         0   \n",
       "1                      0                       0                         0   \n",
       "2                      0                       0                         0   \n",
       "3                      0                       0                         0   \n",
       "4                      0                       0                         0   \n",
       "\n",
       "   native-country_Trinadad&Tobago,  native-country_United-States,  \\\n",
       "0                                0                              1   \n",
       "1                                0                              1   \n",
       "2                                0                              1   \n",
       "3                                0                              1   \n",
       "4                                0                              0   \n",
       "\n",
       "   native-country_Vietnam,  native-country_Yugoslavia,  \n",
       "0                        0                           0  \n",
       "1                        0                           0  \n",
       "2                        0                           0  \n",
       "3                        0                           0  \n",
       "4                        0                           0  \n",
       "\n",
       "[5 rows x 109 columns]"
      ]
     },
     "execution_count": 12,
     "metadata": {},
     "output_type": "execute_result"
    }
   ],
   "source": [
    "data_.head()"
   ]
  },
  {
   "cell_type": "markdown",
   "metadata": {},
   "source": [
    "#### Problem 1:\n",
    "Prediction task is to determine whether a person makes over 50K a year."
   ]
  },
  {
   "cell_type": "code",
   "execution_count": 13,
   "metadata": {
    "collapsed": true
   },
   "outputs": [],
   "source": [
    "import pandas as pd\n",
    "import numpy as np\n",
    "from sklearn.model_selection import train_test_split\n",
    "X = data_[['age', 'fnlwgt', 'education_num', 'capital-gain', 'capital-loss', 'hours-per-week', 'workclass_?,', 'workclass_Federal-gov,', 'workclass_Local-gov,','workclass_Never-worked,', 'workclass_Private,', 'workclass_Self-emp-inc,', 'workclass_Self-emp-not-inc,', 'workclass_State-gov,', 'workclass_Without-pay,', 'education_10th,', 'education_11th,', 'education_12th,', 'education_1st-4th,', 'education_5th-6th,', 'education_7th-8th,', 'education_9th,', 'education_Assoc-acdm,', 'education_Assoc-voc,', 'education_Bachelors,', 'education_Doctorate,', 'education_HS-grad,', 'education_Masters,', 'education_Preschool,', 'education_Prof-school,', 'education_Some-college,', 'marital_status_Divorced,', 'marital_status_Married-AF-spouse,', 'marital_status_Married-civ-spouse,', 'marital_status_Married-spouse-absent,', 'marital_status_Never-married,', 'marital_status_Separated,', 'marital_status_Widowed,', 'occupation_?,', 'occupation_Adm-clerical,', 'occupation_Armed-Forces,', 'occupation_Craft-repair,', 'occupation_Exec-managerial,', 'occupation_Farming-fishing,', 'occupation_Handlers-cleaners,', 'occupation_Machine-op-inspct,', 'occupation_Other-service,', 'occupation_Priv-house-serv,', 'occupation_Prof-specialty,', 'occupation_Protective-serv,', 'occupation_Sales,', 'occupation_Tech-support,', 'occupation_Transport-moving,', 'relationship_Husband,', 'relationship_Not-in-family,', 'relationship_Other-relative,', 'relationship_Own-child,', 'relationship_Unmarried,', 'relationship_Wife,', 'race_Amer-Indian-Eskimo,', 'race_Asian-Pac-Islander,', 'race_Black,', 'race_Other,', 'race_White,', 'sex_Female,', 'sex_Male,', 'native-country_?,', 'native-country_Cambodia,', 'native-country_Canada,', 'native-country_China,', 'native-country_Columbia,', 'native-country_Cuba,', 'native-country_Dominican-Republic,', 'native-country_Ecuador,', 'native-country_El-Salvador,', 'native-country_England,', 'native-country_France,', 'native-country_Germany,', 'native-country_Greece,', 'native-country_Guatemala,', 'native-country_Haiti,', 'native-country_Holand-Netherlands,', 'native-country_Honduras,', 'native-country_Hong,', 'native-country_Hungary,', 'native-country_India,', 'native-country_Iran,', 'native-country_Ireland,', 'native-country_Italy,', 'native-country_Jamaica,', 'native-country_Japan,', 'native-country_Laos,', 'native-country_Mexico,', 'native-country_Nicaragua,', 'native-country_Outlying-US(Guam-USVI-etc),', 'native-country_Peru,', 'native-country_Philippines,', 'native-country_Poland,', 'native-country_Portugal,', 'native-country_Puerto-Rico,', 'native-country_Scotland,', 'native-country_South,', 'native-country_Taiwan,', 'native-country_Thailand,', 'native-country_Trinadad&Tobago,', 'native-country_United-States,', 'native-country_Vietnam,', 'native-country_Yugoslavia,']]\n",
    "Y = data_['income']\n",
    "X_train, X_test, Y_train, Y_test = train_test_split(X, Y, test_size=0.3,random_state =12312)"
   ]
  },
  {
   "cell_type": "code",
   "execution_count": 14,
   "metadata": {},
   "outputs": [
    {
     "data": {
      "text/plain": [
       "DecisionTreeClassifier(class_weight=None, criterion='gini', max_depth=None,\n",
       "            max_features=None, max_leaf_nodes=None,\n",
       "            min_impurity_split=1e-07, min_samples_leaf=1,\n",
       "            min_samples_split=2, min_weight_fraction_leaf=0.0,\n",
       "            presort=False, random_state=None, splitter='best')"
      ]
     },
     "execution_count": 14,
     "metadata": {},
     "output_type": "execute_result"
    }
   ],
   "source": [
    "m1 = DecisionTreeClassifier()\n",
    "m1.fit(X_train,Y_train)\n"
   ]
  },
  {
   "cell_type": "code",
   "execution_count": 15,
   "metadata": {
    "collapsed": true
   },
   "outputs": [],
   "source": [
    "train_DT_pred = m1.predict(X_train)\n",
    "test_DT_pred = m1.predict(X_test)"
   ]
  },
  {
   "cell_type": "code",
   "execution_count": 16,
   "metadata": {},
   "outputs": [
    {
     "name": "stdout",
     "output_type": "stream",
     "text": [
      "1.0\n",
      "0.81666496059\n"
     ]
    }
   ],
   "source": [
    "print(accuracy_score(Y_train, train_DT_pred))\n",
    "print(accuracy_score(Y_test, test_DT_pred))"
   ]
  },
  {
   "cell_type": "code",
   "execution_count": 17,
   "metadata": {
    "collapsed": true
   },
   "outputs": [],
   "source": [
    "m2 = GaussianNB()\n",
    "m2.fit(X_train,Y_train)\n",
    "train_NB_pred = m2.predict(X_train)\n",
    "test_NB_pred = m2.predict(X_test)"
   ]
  },
  {
   "cell_type": "code",
   "execution_count": 18,
   "metadata": {},
   "outputs": [
    {
     "name": "stdout",
     "output_type": "stream",
     "text": [
      "0.794357669358\n",
      "0.79793223462\n"
     ]
    }
   ],
   "source": [
    "print(accuracy_score(Y_train, train_NB_pred))\n",
    "print(accuracy_score(Y_test, test_NB_pred))"
   ]
  },
  {
   "cell_type": "code",
   "execution_count": 19,
   "metadata": {
    "collapsed": true
   },
   "outputs": [],
   "source": [
    "m3 = LogisticRegression()\n",
    "m3.fit(X_train,Y_train)\n",
    "train_LR_pred = m3.predict(X_train)\n",
    "test_LR_pred = m3.predict(X_test)"
   ]
  },
  {
   "cell_type": "code",
   "execution_count": 20,
   "metadata": {},
   "outputs": [
    {
     "name": "stdout",
     "output_type": "stream",
     "text": [
      "0.795981045981\n",
      "0.799877162453\n"
     ]
    }
   ],
   "source": [
    "print(accuracy_score(Y_train, train_LR_pred))\n",
    "print(accuracy_score(Y_test, test_LR_pred))"
   ]
  },
  {
   "cell_type": "code",
   "execution_count": 21,
   "metadata": {
    "collapsed": true
   },
   "outputs": [],
   "source": [
    "m4 = XGBClassifier(n_estimators=5000)\n",
    "m4.fit(X_train,Y_train)\n",
    "train_GB_pred = m4.predict(X_train)\n",
    "test_GB_pred = m4.predict(X_test)"
   ]
  },
  {
   "cell_type": "code",
   "execution_count": 22,
   "metadata": {},
   "outputs": [
    {
     "name": "stdout",
     "output_type": "stream",
     "text": [
      "0.934011934012\n",
      "0.866721261132\n"
     ]
    }
   ],
   "source": [
    "print(accuracy_score(Y_train, train_GB_pred))\n",
    "print(accuracy_score(Y_test, test_GB_pred))"
   ]
  },
  {
   "cell_type": "code",
   "execution_count": 23,
   "metadata": {},
   "outputs": [
    {
     "data": {
      "text/plain": [
       "(32561, 109)"
      ]
     },
     "execution_count": 23,
     "metadata": {},
     "output_type": "execute_result"
    }
   ],
   "source": [
    "data_.shape"
   ]
  },
  {
   "cell_type": "code",
   "execution_count": 24,
   "metadata": {},
   "outputs": [
    {
     "data": {
      "text/plain": [
       "KNeighborsClassifier(algorithm='auto', leaf_size=30, metric='minkowski',\n",
       "           metric_params=None, n_jobs=1, n_neighbors=5, p=2,\n",
       "           weights='uniform')"
      ]
     },
     "execution_count": 24,
     "metadata": {},
     "output_type": "execute_result"
    }
   ],
   "source": [
    "m5 = KNeighborsClassifier(n_neighbors=5)\n",
    "m5.fit(X_train, Y_train)"
   ]
  },
  {
   "cell_type": "code",
   "execution_count": 25,
   "metadata": {
    "collapsed": true
   },
   "outputs": [],
   "source": [
    "train_KN_pred = m5.predict(X_train)\n",
    "test_KN_pred = m5.predict(X_test)"
   ]
  },
  {
   "cell_type": "code",
   "execution_count": 26,
   "metadata": {},
   "outputs": [
    {
     "name": "stdout",
     "output_type": "stream",
     "text": [
      "0.831168831169\n",
      "0.777049851571\n"
     ]
    }
   ],
   "source": [
    "print(accuracy_score(Y_train, train_KN_pred))\n",
    "print(accuracy_score(Y_test, test_KN_pred))"
   ]
  },
  {
   "cell_type": "code",
   "execution_count": 27,
   "metadata": {
    "collapsed": true
   },
   "outputs": [],
   "source": [
    "from sklearn.ensemble import RandomForestClassifier"
   ]
  },
  {
   "cell_type": "code",
   "execution_count": 28,
   "metadata": {},
   "outputs": [
    {
     "data": {
      "text/plain": [
       "RandomForestClassifier(bootstrap=True, class_weight=None, criterion='gini',\n",
       "            max_depth=None, max_features='auto', max_leaf_nodes=None,\n",
       "            min_impurity_split=1e-07, min_samples_leaf=1,\n",
       "            min_samples_split=2, min_weight_fraction_leaf=0.0,\n",
       "            n_estimators=70, n_jobs=1, oob_score=True, random_state=45,\n",
       "            verbose=0, warm_start=False)"
      ]
     },
     "execution_count": 28,
     "metadata": {},
     "output_type": "execute_result"
    }
   ],
   "source": [
    "m6 = RandomForestClassifier(n_estimators=70,oob_score=True,random_state=45)\n",
    "m6.fit(X_train, Y_train)"
   ]
  },
  {
   "cell_type": "code",
   "execution_count": 29,
   "metadata": {
    "collapsed": true
   },
   "outputs": [],
   "source": [
    "train_RF_pred = m6.predict(X_train)\n",
    "test_RF_pred = m6.predict(X_test)"
   ]
  },
  {
   "cell_type": "code",
   "execution_count": 30,
   "metadata": {},
   "outputs": [
    {
     "name": "stdout",
     "output_type": "stream",
     "text": [
      "0.999605124605\n",
      "0.856280069608\n"
     ]
    }
   ],
   "source": [
    "print(accuracy_score(Y_train, train_RF_pred))\n",
    "print(accuracy_score(Y_test, test_RF_pred))"
   ]
  },
  {
   "cell_type": "code",
   "execution_count": 31,
   "metadata": {
    "collapsed": true
   },
   "outputs": [],
   "source": [
    "Ensemble_M_train = pd.DataFrame({'DT':list(train_DT_pred),'NB':list(train_NB_pred),'LR':list(train_LR_pred), 'GB': list(train_GB_pred), 'KN': list(train_KN_pred), 'RF': list(train_RF_pred), 'Y': list(Y_train)})\n",
    "Ensemble_M_test = pd.DataFrame({'DT':list(test_DT_pred),'NB':list(test_NB_pred),'LR':list(test_LR_pred), 'GB': list(test_GB_pred), 'KN': list(test_KN_pred), 'RF': list(test_RF_pred), 'Y': list(Y_test)})"
   ]
  },
  {
   "cell_type": "code",
   "execution_count": 32,
   "metadata": {},
   "outputs": [
    {
     "data": {
      "text/html": [
       "<div>\n",
       "<style>\n",
       "    .dataframe thead tr:only-child th {\n",
       "        text-align: right;\n",
       "    }\n",
       "\n",
       "    .dataframe thead th {\n",
       "        text-align: left;\n",
       "    }\n",
       "\n",
       "    .dataframe tbody tr th {\n",
       "        vertical-align: top;\n",
       "    }\n",
       "</style>\n",
       "<table border=\"1\" class=\"dataframe\">\n",
       "  <thead>\n",
       "    <tr style=\"text-align: right;\">\n",
       "      <th></th>\n",
       "      <th>DT</th>\n",
       "      <th>GB</th>\n",
       "      <th>KN</th>\n",
       "      <th>LR</th>\n",
       "      <th>NB</th>\n",
       "      <th>RF</th>\n",
       "      <th>Y</th>\n",
       "    </tr>\n",
       "  </thead>\n",
       "  <tbody>\n",
       "    <tr>\n",
       "      <th>0</th>\n",
       "      <td>0</td>\n",
       "      <td>0</td>\n",
       "      <td>0</td>\n",
       "      <td>0</td>\n",
       "      <td>0</td>\n",
       "      <td>0</td>\n",
       "      <td>0</td>\n",
       "    </tr>\n",
       "    <tr>\n",
       "      <th>1</th>\n",
       "      <td>0</td>\n",
       "      <td>0</td>\n",
       "      <td>0</td>\n",
       "      <td>0</td>\n",
       "      <td>0</td>\n",
       "      <td>0</td>\n",
       "      <td>0</td>\n",
       "    </tr>\n",
       "    <tr>\n",
       "      <th>2</th>\n",
       "      <td>0</td>\n",
       "      <td>0</td>\n",
       "      <td>0</td>\n",
       "      <td>0</td>\n",
       "      <td>0</td>\n",
       "      <td>0</td>\n",
       "      <td>0</td>\n",
       "    </tr>\n",
       "    <tr>\n",
       "      <th>3</th>\n",
       "      <td>0</td>\n",
       "      <td>0</td>\n",
       "      <td>0</td>\n",
       "      <td>0</td>\n",
       "      <td>0</td>\n",
       "      <td>0</td>\n",
       "      <td>0</td>\n",
       "    </tr>\n",
       "    <tr>\n",
       "      <th>4</th>\n",
       "      <td>0</td>\n",
       "      <td>0</td>\n",
       "      <td>0</td>\n",
       "      <td>0</td>\n",
       "      <td>0</td>\n",
       "      <td>0</td>\n",
       "      <td>0</td>\n",
       "    </tr>\n",
       "  </tbody>\n",
       "</table>\n",
       "</div>"
      ],
      "text/plain": [
       "   DT  GB  KN  LR  NB  RF  Y\n",
       "0   0   0   0   0   0   0  0\n",
       "1   0   0   0   0   0   0  0\n",
       "2   0   0   0   0   0   0  0\n",
       "3   0   0   0   0   0   0  0\n",
       "4   0   0   0   0   0   0  0"
      ]
     },
     "execution_count": 32,
     "metadata": {},
     "output_type": "execute_result"
    }
   ],
   "source": [
    "Ensemble_M_train.head()"
   ]
  },
  {
   "cell_type": "code",
   "execution_count": 33,
   "metadata": {},
   "outputs": [
    {
     "data": {
      "text/html": [
       "<div>\n",
       "<style>\n",
       "    .dataframe thead tr:only-child th {\n",
       "        text-align: right;\n",
       "    }\n",
       "\n",
       "    .dataframe thead th {\n",
       "        text-align: left;\n",
       "    }\n",
       "\n",
       "    .dataframe tbody tr th {\n",
       "        vertical-align: top;\n",
       "    }\n",
       "</style>\n",
       "<table border=\"1\" class=\"dataframe\">\n",
       "  <thead>\n",
       "    <tr style=\"text-align: right;\">\n",
       "      <th></th>\n",
       "      <th>DT</th>\n",
       "      <th>GB</th>\n",
       "      <th>KN</th>\n",
       "      <th>LR</th>\n",
       "      <th>NB</th>\n",
       "      <th>RF</th>\n",
       "      <th>Y</th>\n",
       "    </tr>\n",
       "  </thead>\n",
       "  <tbody>\n",
       "    <tr>\n",
       "      <th>0</th>\n",
       "      <td>0</td>\n",
       "      <td>0</td>\n",
       "      <td>1</td>\n",
       "      <td>0</td>\n",
       "      <td>0</td>\n",
       "      <td>0</td>\n",
       "      <td>0</td>\n",
       "    </tr>\n",
       "    <tr>\n",
       "      <th>1</th>\n",
       "      <td>0</td>\n",
       "      <td>0</td>\n",
       "      <td>0</td>\n",
       "      <td>0</td>\n",
       "      <td>0</td>\n",
       "      <td>0</td>\n",
       "      <td>0</td>\n",
       "    </tr>\n",
       "    <tr>\n",
       "      <th>2</th>\n",
       "      <td>0</td>\n",
       "      <td>0</td>\n",
       "      <td>0</td>\n",
       "      <td>0</td>\n",
       "      <td>0</td>\n",
       "      <td>0</td>\n",
       "      <td>0</td>\n",
       "    </tr>\n",
       "    <tr>\n",
       "      <th>3</th>\n",
       "      <td>1</td>\n",
       "      <td>1</td>\n",
       "      <td>0</td>\n",
       "      <td>1</td>\n",
       "      <td>1</td>\n",
       "      <td>1</td>\n",
       "      <td>1</td>\n",
       "    </tr>\n",
       "    <tr>\n",
       "      <th>4</th>\n",
       "      <td>0</td>\n",
       "      <td>0</td>\n",
       "      <td>0</td>\n",
       "      <td>0</td>\n",
       "      <td>0</td>\n",
       "      <td>0</td>\n",
       "      <td>0</td>\n",
       "    </tr>\n",
       "  </tbody>\n",
       "</table>\n",
       "</div>"
      ],
      "text/plain": [
       "   DT  GB  KN  LR  NB  RF  Y\n",
       "0   0   0   1   0   0   0  0\n",
       "1   0   0   0   0   0   0  0\n",
       "2   0   0   0   0   0   0  0\n",
       "3   1   1   0   1   1   1  1\n",
       "4   0   0   0   0   0   0  0"
      ]
     },
     "execution_count": 33,
     "metadata": {},
     "output_type": "execute_result"
    }
   ],
   "source": [
    "Ensemble_M_test.head()"
   ]
  },
  {
   "cell_type": "code",
   "execution_count": 34,
   "metadata": {},
   "outputs": [
    {
     "data": {
      "text/html": [
       "<div>\n",
       "<style>\n",
       "    .dataframe thead tr:only-child th {\n",
       "        text-align: right;\n",
       "    }\n",
       "\n",
       "    .dataframe thead th {\n",
       "        text-align: left;\n",
       "    }\n",
       "\n",
       "    .dataframe tbody tr th {\n",
       "        vertical-align: top;\n",
       "    }\n",
       "</style>\n",
       "<table border=\"1\" class=\"dataframe\">\n",
       "  <thead>\n",
       "    <tr style=\"text-align: right;\">\n",
       "      <th>Y</th>\n",
       "      <th>0</th>\n",
       "      <th>1</th>\n",
       "    </tr>\n",
       "    <tr>\n",
       "      <th>LR</th>\n",
       "      <th></th>\n",
       "      <th></th>\n",
       "    </tr>\n",
       "  </thead>\n",
       "  <tbody>\n",
       "    <tr>\n",
       "      <th>0</th>\n",
       "      <td>7211</td>\n",
       "      <td>1698</td>\n",
       "    </tr>\n",
       "    <tr>\n",
       "      <th>1</th>\n",
       "      <td>257</td>\n",
       "      <td>603</td>\n",
       "    </tr>\n",
       "  </tbody>\n",
       "</table>\n",
       "</div>"
      ],
      "text/plain": [
       "Y      0     1\n",
       "LR            \n",
       "0   7211  1698\n",
       "1    257   603"
      ]
     },
     "execution_count": 34,
     "metadata": {},
     "output_type": "execute_result"
    }
   ],
   "source": [
    "pd.crosstab(Ensemble_M_test.LR, Ensemble_M_test.Y)"
   ]
  },
  {
   "cell_type": "code",
   "execution_count": 35,
   "metadata": {
    "collapsed": true
   },
   "outputs": [],
   "source": [
    "X_train_Ens = Ensemble_M_train[['DT','NB','LR','GB','KN','RF']]\n",
    "Y_train_Ens = Ensemble_M_train[['Y']]"
   ]
  },
  {
   "cell_type": "code",
   "execution_count": 36,
   "metadata": {
    "collapsed": true
   },
   "outputs": [],
   "source": [
    "X_test_Ens = Ensemble_M_test[['DT','NB','LR','GB','KN','RF']]\n",
    "Y_test_Ens = Ensemble_M_test[['Y']]"
   ]
  },
  {
   "cell_type": "code",
   "execution_count": 37,
   "metadata": {
    "collapsed": true
   },
   "outputs": [],
   "source": [
    "# Train prediction model are trained using Logistic Regression prediction\n",
    "model_ensemble = LogisticRegression()\n"
   ]
  },
  {
   "cell_type": "code",
   "execution_count": 38,
   "metadata": {},
   "outputs": [
    {
     "name": "stderr",
     "output_type": "stream",
     "text": [
      "C:\\Anaconda3\\lib\\site-packages\\sklearn\\utils\\validation.py:526: DataConversionWarning: A column-vector y was passed when a 1d array was expected. Please change the shape of y to (n_samples, ), for example using ravel().\n",
      "  y = column_or_1d(y, warn=True)\n"
     ]
    },
    {
     "data": {
      "text/plain": [
       "LogisticRegression(C=1.0, class_weight=None, dual=False, fit_intercept=True,\n",
       "          intercept_scaling=1, max_iter=100, multi_class='ovr', n_jobs=1,\n",
       "          penalty='l2', random_state=None, solver='liblinear', tol=0.0001,\n",
       "          verbose=0, warm_start=False)"
      ]
     },
     "execution_count": 38,
     "metadata": {},
     "output_type": "execute_result"
    }
   ],
   "source": [
    "model_ensemble.fit(X_train_Ens, Y_train_Ens)"
   ]
  },
  {
   "cell_type": "code",
   "execution_count": 39,
   "metadata": {
    "collapsed": true
   },
   "outputs": [],
   "source": [
    "# Predicting outcome based on test prediction on the model build on test prediction\n",
    "test_pred_Ens = model_ensemble.predict(X_test_Ens)"
   ]
  },
  {
   "cell_type": "code",
   "execution_count": 40,
   "metadata": {},
   "outputs": [
    {
     "name": "stdout",
     "output_type": "stream",
     "text": [
      "             precision    recall  f1-score   support\n",
      "\n",
      "          0       0.89      0.87      0.88      7468\n",
      "          1       0.60      0.64      0.62      2301\n",
      "\n",
      "avg / total       0.82      0.82      0.82      9769\n",
      "\n"
     ]
    }
   ],
   "source": [
    "print(classification_report(Y_test_Ens, test_pred_Ens))"
   ]
  },
  {
   "cell_type": "code",
   "execution_count": 41,
   "metadata": {},
   "outputs": [
    {
     "name": "stdout",
     "output_type": "stream",
     "text": [
      "0.81666496059\n"
     ]
    }
   ],
   "source": [
    "print(accuracy_score(Y_test_Ens, test_pred_Ens))"
   ]
  },
  {
   "cell_type": "code",
   "execution_count": 42,
   "metadata": {},
   "outputs": [
    {
     "name": "stdout",
     "output_type": "stream",
     "text": [
      "[[6497  971]\n",
      " [ 820 1481]]\n"
     ]
    }
   ],
   "source": [
    "print(confusion_matrix(Y_test_Ens, test_pred_Ens))"
   ]
  },
  {
   "cell_type": "code",
   "execution_count": 43,
   "metadata": {
    "collapsed": true
   },
   "outputs": [],
   "source": [
    " tn, fp, fn, tp = confusion_matrix(Y_test_Ens, test_pred_Ens).ravel()"
   ]
  },
  {
   "cell_type": "code",
   "execution_count": 44,
   "metadata": {},
   "outputs": [
    {
     "data": {
      "text/plain": [
       "(6497, 971, 820, 1481)"
      ]
     },
     "execution_count": 44,
     "metadata": {},
     "output_type": "execute_result"
    }
   ],
   "source": [
    "tn, fp, fn, tp"
   ]
  },
  {
   "cell_type": "markdown",
   "metadata": {},
   "source": [
    "We have 1489 True positives, 6539 True Negatives, 929 False Positive, 812 False Negatives"
   ]
  },
  {
   "cell_type": "markdown",
   "metadata": {},
   "source": [
    "#### Problem 2:\n",
    "Which factors are important?"
   ]
  },
  {
   "cell_type": "code",
   "execution_count": 45,
   "metadata": {
    "collapsed": true
   },
   "outputs": [],
   "source": [
    "import matplotlib.pyplot as plt\n",
    "\n",
    "\n",
    "# this allows plots to appear directly in the notebook\n",
    "%matplotlib inline"
   ]
  },
  {
   "cell_type": "code",
   "execution_count": 46,
   "metadata": {
    "collapsed": true
   },
   "outputs": [],
   "source": [
    "\n",
    "adult_df['education_num'] = pd.to_numeric(adult_df['education_num'].str.replace(',',''))"
   ]
  },
  {
   "cell_type": "code",
   "execution_count": 47,
   "metadata": {},
   "outputs": [
    {
     "name": "stderr",
     "output_type": "stream",
     "text": [
      "C:\\Anaconda3\\lib\\site-packages\\ggplot\\utils.py:81: FutureWarning: pandas.tslib is deprecated and will be removed in a future version.\n",
      "You can access Timestamp as pandas.Timestamp\n",
      "  pd.tslib.Timestamp,\n",
      "C:\\Anaconda3\\lib\\site-packages\\ggplot\\stats\\smoothers.py:4: FutureWarning: The pandas.lib module is deprecated and will be removed in a future version. These are private functions and can be accessed from pandas._libs.lib instead\n",
      "  from pandas.lib import Timestamp\n",
      "C:\\Anaconda3\\lib\\site-packages\\statsmodels\\compat\\pandas.py:56: FutureWarning: The pandas.core.datetools module is deprecated and will be removed in a future version. Please use the pandas.tseries module instead.\n",
      "  from pandas.core import datetools\n"
     ]
    }
   ],
   "source": [
    "import ggplot\n",
    "from ggplot import *\n"
   ]
  },
  {
   "cell_type": "code",
   "execution_count": 48,
   "metadata": {
    "collapsed": true
   },
   "outputs": [],
   "source": [
    "adult_df['age'] = pd.to_numeric(adult_df['age'].str.replace(',',''))\n"
   ]
  },
  {
   "cell_type": "code",
   "execution_count": 49,
   "metadata": {},
   "outputs": [
    {
     "data": {
      "text/html": [
       "<div>\n",
       "<style>\n",
       "    .dataframe thead tr:only-child th {\n",
       "        text-align: right;\n",
       "    }\n",
       "\n",
       "    .dataframe thead th {\n",
       "        text-align: left;\n",
       "    }\n",
       "\n",
       "    .dataframe tbody tr th {\n",
       "        vertical-align: top;\n",
       "    }\n",
       "</style>\n",
       "<table border=\"1\" class=\"dataframe\">\n",
       "  <thead>\n",
       "    <tr style=\"text-align: right;\">\n",
       "      <th></th>\n",
       "      <th>age</th>\n",
       "      <th>workclass</th>\n",
       "      <th>fnlwgt</th>\n",
       "      <th>education</th>\n",
       "      <th>education_num</th>\n",
       "      <th>marital_status</th>\n",
       "      <th>occupation</th>\n",
       "      <th>relationship</th>\n",
       "      <th>race</th>\n",
       "      <th>sex</th>\n",
       "      <th>capital-gain</th>\n",
       "      <th>capital-loss</th>\n",
       "      <th>hours-per-week</th>\n",
       "      <th>native-country</th>\n",
       "      <th>income</th>\n",
       "    </tr>\n",
       "  </thead>\n",
       "  <tbody>\n",
       "    <tr>\n",
       "      <th>0</th>\n",
       "      <td>39</td>\n",
       "      <td>State-gov,</td>\n",
       "      <td>77516,</td>\n",
       "      <td>Bachelors,</td>\n",
       "      <td>13</td>\n",
       "      <td>Never-married,</td>\n",
       "      <td>Adm-clerical,</td>\n",
       "      <td>Not-in-family,</td>\n",
       "      <td>White,</td>\n",
       "      <td>Male,</td>\n",
       "      <td>2174,</td>\n",
       "      <td>0,</td>\n",
       "      <td>40,</td>\n",
       "      <td>United-States,</td>\n",
       "      <td>&lt;=50K</td>\n",
       "    </tr>\n",
       "    <tr>\n",
       "      <th>1</th>\n",
       "      <td>50</td>\n",
       "      <td>Self-emp-not-inc,</td>\n",
       "      <td>83311,</td>\n",
       "      <td>Bachelors,</td>\n",
       "      <td>13</td>\n",
       "      <td>Married-civ-spouse,</td>\n",
       "      <td>Exec-managerial,</td>\n",
       "      <td>Husband,</td>\n",
       "      <td>White,</td>\n",
       "      <td>Male,</td>\n",
       "      <td>0,</td>\n",
       "      <td>0,</td>\n",
       "      <td>13,</td>\n",
       "      <td>United-States,</td>\n",
       "      <td>&lt;=50K</td>\n",
       "    </tr>\n",
       "    <tr>\n",
       "      <th>2</th>\n",
       "      <td>38</td>\n",
       "      <td>Private,</td>\n",
       "      <td>215646,</td>\n",
       "      <td>HS-grad,</td>\n",
       "      <td>9</td>\n",
       "      <td>Divorced,</td>\n",
       "      <td>Handlers-cleaners,</td>\n",
       "      <td>Not-in-family,</td>\n",
       "      <td>White,</td>\n",
       "      <td>Male,</td>\n",
       "      <td>0,</td>\n",
       "      <td>0,</td>\n",
       "      <td>40,</td>\n",
       "      <td>United-States,</td>\n",
       "      <td>&lt;=50K</td>\n",
       "    </tr>\n",
       "    <tr>\n",
       "      <th>3</th>\n",
       "      <td>53</td>\n",
       "      <td>Private,</td>\n",
       "      <td>234721,</td>\n",
       "      <td>11th,</td>\n",
       "      <td>7</td>\n",
       "      <td>Married-civ-spouse,</td>\n",
       "      <td>Handlers-cleaners,</td>\n",
       "      <td>Husband,</td>\n",
       "      <td>Black,</td>\n",
       "      <td>Male,</td>\n",
       "      <td>0,</td>\n",
       "      <td>0,</td>\n",
       "      <td>40,</td>\n",
       "      <td>United-States,</td>\n",
       "      <td>&lt;=50K</td>\n",
       "    </tr>\n",
       "    <tr>\n",
       "      <th>4</th>\n",
       "      <td>28</td>\n",
       "      <td>Private,</td>\n",
       "      <td>338409,</td>\n",
       "      <td>Bachelors,</td>\n",
       "      <td>13</td>\n",
       "      <td>Married-civ-spouse,</td>\n",
       "      <td>Prof-specialty,</td>\n",
       "      <td>Wife,</td>\n",
       "      <td>Black,</td>\n",
       "      <td>Female,</td>\n",
       "      <td>0,</td>\n",
       "      <td>0,</td>\n",
       "      <td>40,</td>\n",
       "      <td>Cuba,</td>\n",
       "      <td>&lt;=50K</td>\n",
       "    </tr>\n",
       "  </tbody>\n",
       "</table>\n",
       "</div>"
      ],
      "text/plain": [
       "   age          workclass   fnlwgt   education  education_num  \\\n",
       "0   39         State-gov,   77516,  Bachelors,             13   \n",
       "1   50  Self-emp-not-inc,   83311,  Bachelors,             13   \n",
       "2   38           Private,  215646,    HS-grad,              9   \n",
       "3   53           Private,  234721,       11th,              7   \n",
       "4   28           Private,  338409,  Bachelors,             13   \n",
       "\n",
       "        marital_status          occupation    relationship    race      sex  \\\n",
       "0       Never-married,       Adm-clerical,  Not-in-family,  White,    Male,   \n",
       "1  Married-civ-spouse,    Exec-managerial,        Husband,  White,    Male,   \n",
       "2            Divorced,  Handlers-cleaners,  Not-in-family,  White,    Male,   \n",
       "3  Married-civ-spouse,  Handlers-cleaners,        Husband,  Black,    Male,   \n",
       "4  Married-civ-spouse,     Prof-specialty,           Wife,  Black,  Female,   \n",
       "\n",
       "  capital-gain capital-loss hours-per-week  native-country income  \n",
       "0        2174,           0,            40,  United-States,  <=50K  \n",
       "1           0,           0,            13,  United-States,  <=50K  \n",
       "2           0,           0,            40,  United-States,  <=50K  \n",
       "3           0,           0,            40,  United-States,  <=50K  \n",
       "4           0,           0,            40,           Cuba,  <=50K  "
      ]
     },
     "execution_count": 49,
     "metadata": {},
     "output_type": "execute_result"
    }
   ],
   "source": [
    "adult_df.head()"
   ]
  },
  {
   "cell_type": "code",
   "execution_count": 50,
   "metadata": {},
   "outputs": [
    {
     "data": {
      "image/png": "[encoded data removed]",
      "text/plain": [
       "<matplotlib.figure.Figure at 0x2a718848198>"
      ]
     },
     "metadata": {},
     "output_type": "display_data"
    },
    {
     "data": {
      "text/plain": [
       "<ggplot: (-9223371854561392559)>"
      ]
     },
     "execution_count": 50,
     "metadata": {},
     "output_type": "execute_result"
    }
   ],
   "source": [
    "ggplot(aes(x='age', fill='income'), data=adult_df) + \\\n",
    "    geom_histogram(color='black')"
   ]
  },
  {
   "cell_type": "code",
   "execution_count": 51,
   "metadata": {},
   "outputs": [
    {
     "data": {
      "image/png": "[encoded data removed]",
      "text/plain": [
       "<matplotlib.figure.Figure at 0x2a713968198>"
      ]
     },
     "metadata": {},
     "output_type": "display_data"
    },
    {
     "data": {
      "text/plain": [
       "<ggplot: (182288345962)>"
      ]
     },
     "execution_count": 51,
     "metadata": {},
     "output_type": "execute_result"
    }
   ],
   "source": [
    "ggplot(aes(x='education_num', fill='income'), adult_df) + geom_histogram(color='black')"
   ]
  },
  {
   "cell_type": "code",
   "execution_count": 52,
   "metadata": {},
   "outputs": [
    {
     "data": {
      "text/plain": [
       "array(['Adm-clerical,', 'Exec-managerial,', 'Handlers-cleaners,',\n",
       "       'Prof-specialty,', 'Other-service,', 'Sales,', 'Craft-repair,',\n",
       "       'Transport-moving,', 'Farming-fishing,', 'Machine-op-inspct,',\n",
       "       'Tech-support,', '?,', 'Protective-serv,', 'Armed-Forces,',\n",
       "       'Priv-house-serv,'], dtype=object)"
      ]
     },
     "execution_count": 52,
     "metadata": {},
     "output_type": "execute_result"
    }
   ],
   "source": [
    "adult_df.occupation.unique()"
   ]
  },
  {
   "cell_type": "code",
   "execution_count": 53,
   "metadata": {
    "collapsed": true
   },
   "outputs": [],
   "source": [
    "adult_df.occupation.replace({'Adm-clerical':'AC', 'Exec-managerial':'EM', 'Handlers-cleaners':'HC',\n",
    "       'Prof-specialty':'PS', 'Other-service':'OS', 'Sales':'S', 'Craft-repair':'CR',\n",
    "       'Transport-moving':'TM', 'Farming-fishing':'FF', 'Machine-op-inspct':'MOI',\n",
    "       'Tech-support':'TS', '?':'?', 'Protective-serv':'PSE', 'Armed-Forces':'AF',\n",
    "       'Priv-house-serv':'PHS'}, inplace= True)"
   ]
  },
  {
   "cell_type": "code",
   "execution_count": 54,
   "metadata": {},
   "outputs": [
    {
     "data": {
      "text/plain": [
       "array([0, 1], dtype=int64)"
      ]
     },
     "execution_count": 54,
     "metadata": {},
     "output_type": "execute_result"
    }
   ],
   "source": [
    "adult_df.income = adult_df.income.apply(lambda x:1 if x == '>50K' else 0)\n",
    "adult_df.income.unique()"
   ]
  },
  {
   "cell_type": "code",
   "execution_count": 55,
   "metadata": {},
   "outputs": [
    {
     "data": {
      "image/png": "[encoded data removed]",
      "text/plain": [
       "<matplotlib.figure.Figure at 0x2a713a516a0>"
      ]
     },
     "metadata": {},
     "output_type": "display_data"
    }
   ],
   "source": [
    "#ggplot(aes(x='occupation', fill='income'), adult_df) +  geom_histogram(color='black') \n",
    "fig, axs = plt.subplots(figsize=(18, 10), sharey=True)\n",
    "#axs[0].bar(adult_df.occupation, adult_df.income)\n",
    "\n",
    "import seaborn as sns\n",
    "#sns.set(style=\"whitegrid\", color_codes=True)\n",
    "sns.barplot(x=\"occupation\", y=\"income\", data=adult_df);\n"
   ]
  },
  {
   "cell_type": "code",
   "execution_count": 56,
   "metadata": {},
   "outputs": [
    {
     "data": {
      "image/png": "[encoded data removed]",
      "text/plain": [
       "<matplotlib.figure.Figure at 0x2a70c749e80>"
      ]
     },
     "metadata": {},
     "output_type": "display_data"
    }
   ],
   "source": [
    "sns.barplot(x=\"race\", y=\"income\", data=adult_df);"
   ]
  },
  {
   "cell_type": "code",
   "execution_count": 71,
   "metadata": {
    "collapsed": true
   },
   "outputs": [],
   "source": [
    "for i in range(len(adult_df['hours-per-week'])):\n",
    "    adult_df['hours-per-week'][i] = adult_df['hours-per-week'][i][:len(adult_df['hours-per-week'][i])-1]\n",
    "   "
   ]
  },
  {
   "cell_type": "code",
   "execution_count": 72,
   "metadata": {
    "collapsed": true
   },
   "outputs": [],
   "source": [
    "adult_df['hours-per-week'] = pd.to_numeric(adult_df['hours-per-week'], errors='coerce')"
   ]
  },
  {
   "cell_type": "code",
   "execution_count": 73,
   "metadata": {},
   "outputs": [
    {
     "data": {
      "text/plain": [
       "numpy.int64"
      ]
     },
     "execution_count": 73,
     "metadata": {},
     "output_type": "execute_result"
    }
   ],
   "source": [
    "type(adult_df['hours-per-week'][0])"
   ]
  },
  {
   "cell_type": "code",
   "execution_count": 74,
   "metadata": {},
   "outputs": [
    {
     "data": {
      "image/png": "[encoded data removed]",
      "text/plain": [
       "<matplotlib.figure.Figure at 0x2a719242940>"
      ]
     },
     "metadata": {},
     "output_type": "display_data"
    },
    {
     "data": {
      "text/plain": [
       "<ggplot: (182294037091)>"
      ]
     },
     "execution_count": 74,
     "metadata": {},
     "output_type": "execute_result"
    }
   ],
   "source": [
    "ggplot(aes(x='hours-per-week', fill='income'), adult_df) + geom_histogram(color='black')"
   ]
  },
  {
   "cell_type": "code",
   "execution_count": 75,
   "metadata": {},
   "outputs": [
    {
     "data": {
      "text/plain": [
       "<matplotlib.axes._subplots.AxesSubplot at 0x2a719fd7eb8>"
      ]
     },
     "execution_count": 75,
     "metadata": {},
     "output_type": "execute_result"
    },
    {
     "data": {
      "image/png": "[encoded data removed]",
      "text/plain": [
       "<matplotlib.figure.Figure at 0x2a719fe2518>"
      ]
     },
     "metadata": {},
     "output_type": "display_data"
    }
   ],
   "source": [
    "fig, ax = plt.subplots(1,1,figsize=(18,20))\n",
    "m4.feature_importances_\n",
    "xgb.plot_importance(m4, ax=ax, max_num_features=106)"
   ]
  },
  {
   "cell_type": "markdown",
   "metadata": {},
   "source": [
    "As per the above graphs,\n",
    "The important factors which are impacting the income of the employees are\n",
    "1. fnlwgt - Final Weight\n",
    "2. age\n",
    "3. Hours-per-week"
   ]
  },
  {
   "cell_type": "markdown",
   "metadata": {},
   "source": [
    "#### Problem 3:\n",
    "Which algorithms are best for this dataset ?"
   ]
  },
  {
   "cell_type": "markdown",
   "metadata": {},
   "source": [
    "The best algorithms are GaussianNB and Logistic Regression since the\n",
    "train accuracy are almost the same as test accuracy, whereas in other algorithms\n",
    "we have overfitting as train accuracy is more than test accuracy.\n"
   ]
  }
 ],
 "metadata": {
  "kernelspec": {
   "display_name": "Python 3",
   "language": "python",
   "name": "python3"
  },
  "language_info": {
   "codemirror_mode": {
    "name": "ipython",
    "version": 3
   },
   "file_extension": ".py",
   "mimetype": "text/x-python",
   "name": "python",
   "nbconvert_exporter": "python",
   "pygments_lexer": "ipython3",
   "version": "3.6.3"
  }
 },
 "nbformat": 4,
 "nbformat_minor": 2
}
